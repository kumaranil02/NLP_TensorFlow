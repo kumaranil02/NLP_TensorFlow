{
  "nbformat": 4,
  "nbformat_minor": 0,
  "metadata": {
    "colab": {
      "provenance": [],
      "gpuType": "T4",
      "authorship_tag": "ABX9TyOW3bMM430ufoGBRbYsT5oO",
      "include_colab_link": true
    },
    "kernelspec": {
      "name": "python3",
      "display_name": "Python 3"
    },
    "language_info": {
      "name": "python"
    },
    "accelerator": "GPU"
  },
  "cells": [
    {
      "cell_type": "markdown",
      "metadata": {
        "id": "view-in-github",
        "colab_type": "text"
      },
      "source": [
        "<a href=\"https://colab.research.google.com/github/kumaranil02/NLP_TensorFlow/blob/main/Anil_Experiments_management_with_Weights_%26_Biases.ipynb\" target=\"_parent\"><img src=\"https://colab.research.google.com/assets/colab-badge.svg\" alt=\"Open In Colab\"/></a>"
      ]
    },
    {
      "cell_type": "code",
      "source": [],
      "metadata": {
        "id": "KYZga_CBlg0C"
      },
      "execution_count": null,
      "outputs": []
    },
    {
      "cell_type": "markdown",
      "source": [
        "Anil Test WandB OpenAI\n"
      ],
      "metadata": {
        "id": "Z_cQ9NAjyqM7"
      }
    },
    {
      "cell_type": "markdown",
      "source": [
        "https://wandb.ai/kumaranil02/llmapps/reports/Untitled-Report--Vmlldzo1MDYzODc0/edit?firstReport=&runsetFilter"
      ],
      "metadata": {
        "id": "tLl0BP1By1b-"
      }
    },
    {
      "cell_type": "code",
      "source": [],
      "metadata": {
        "id": "g2dagjb2lg3g"
      },
      "execution_count": null,
      "outputs": []
    },
    {
      "cell_type": "code",
      "source": [],
      "metadata": {
        "id": "Hk9cKJ-qlg67"
      },
      "execution_count": null,
      "outputs": []
    },
    {
      "cell_type": "code",
      "source": [],
      "metadata": {
        "id": "CwcM04Nslg-l"
      },
      "execution_count": null,
      "outputs": []
    },
    {
      "cell_type": "code",
      "source": [],
      "metadata": {
        "id": "S_4nGaDQlhB7"
      },
      "execution_count": null,
      "outputs": []
    },
    {
      "cell_type": "code",
      "source": [],
      "metadata": {
        "id": "iEUcmOxJlhFL"
      },
      "execution_count": null,
      "outputs": []
    },
    {
      "cell_type": "code",
      "source": [],
      "metadata": {
        "id": "HRnRck_2lhIL"
      },
      "execution_count": null,
      "outputs": []
    }
  ]
}